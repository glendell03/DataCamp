{
 "metadata": {
  "language_info": {
   "codemirror_mode": {
    "name": "ipython",
    "version": 3
   },
   "file_extension": ".py",
   "mimetype": "text/x-python",
   "name": "python",
   "nbconvert_exporter": "python",
   "pygments_lexer": "ipython3",
   "version": "3.9.1-final"
  },
  "orig_nbformat": 2,
  "kernelspec": {
   "name": "python3",
   "display_name": "Python 3"
  }
 },
 "nbformat": 4,
 "nbformat_minor": 2,
 "cells": [
  {
   "cell_type": "code",
   "execution_count": 6,
   "metadata": {},
   "outputs": [
    {
     "output_type": "stream",
     "name": "stdout",
     "text": [
      "   BRITH_YEAR  GENDER  ETHNICTY       NAME  COUNT  RANK\n0        2011  FEMALE  HISPANIC  GERALDINE     13    75\n1        2011  FEMALE  HISPANIC        GIA     21    67\n2        2011  FEMALE  HISPANIC     GIANNA     49    42\n3        2011  FEMALE  HISPANIC    GISELLE     38    51\n4        2011  FEMALE  HISPANIC      GRACE     36    53\n"
     ]
    }
   ],
   "source": [
    "import pandas as pd\n",
    "\n",
    "baby_names = pd.read_csv(\"babyname.csv\")\n",
    "\n",
    "# print all the rows\n",
    "# print(baby_names) \n",
    "\n",
    "# print the first five row\n",
    "print(baby_names.head()) \n",
    "\n",
    "# Inspect the dataframe\n",
    "# print(baby_names.info())"
   ]
  },
  {
   "cell_type": "code",
   "execution_count": 12,
   "metadata": {},
   "outputs": [
    {
     "output_type": "stream",
     "name": "stdout",
     "text": [
      "0    FEMALE\n1    FEMALE\n2    FEMALE\n3    FEMALE\n4    FEMALE\nName: GENDER, dtype: object\n"
     ]
    }
   ],
   "source": [
    "# Selecting Colums\n",
    "# Brackets\n",
    "birth_year = baby_names['GENDER']\n",
    "\n",
    "# String Notation\n",
    "birth_year = baby_names.GENDER\n",
    "\n",
    "print(birth_year.head())"
   ]
  },
  {
   "cell_type": "code",
   "execution_count": null,
   "metadata": {},
   "outputs": [],
   "source": []
  }
 ]
}